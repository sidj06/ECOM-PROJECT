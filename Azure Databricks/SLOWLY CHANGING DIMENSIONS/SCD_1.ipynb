{
 "cells": [
  {
   "cell_type": "markdown",
   "metadata": {
    "application/vnd.databricks.v1+cell": {
     "cellMetadata": {
      "byteLimit": 2048000,
      "rowLimit": 10000
     },
     "inputWidgets": {},
     "nuid": "70818320-4f74-443d-83ce-fadc18fba354",
     "showTitle": false,
     "tableResultSettingsMap": {},
     "title": ""
    }
   },
   "source": [
    "Creating Trigger Name Widget (Parameter)"
   ]
  },
  {
   "cell_type": "code",
   "execution_count": 0,
   "metadata": {
    "application/vnd.databricks.v1+cell": {
     "cellMetadata": {
      "byteLimit": 2048000,
      "rowLimit": 10000
     },
     "inputWidgets": {},
     "nuid": "12ceef7a-ca73-4fa1-88b7-0190cd2ff18c",
     "showTitle": false,
     "tableResultSettingsMap": {},
     "title": ""
    }
   },
   "outputs": [],
   "source": [
    "dbutils.widgets.combobox(name='TriggerName',defaultValue='',choices=['Tr_sample_csv','Tr_sample_excel','Tr_sample_restApi','Tr_sample_sql','Tr_sample_sftp'])\n",
    "TriggerName = dbutils.widgets.get(name='TriggerName')"
   ]
  },
  {
   "cell_type": "markdown",
   "metadata": {
    "application/vnd.databricks.v1+cell": {
     "cellMetadata": {
      "byteLimit": 2048000,
      "rowLimit": 10000
     },
     "inputWidgets": {},
     "nuid": "4ead302d-77af-420f-8099-7745896517ad",
     "showTitle": false,
     "tableResultSettingsMap": {},
     "title": ""
    }
   },
   "source": [
    "Triggering Common Functions Notebook"
   ]
  },
  {
   "cell_type": "code",
   "execution_count": 0,
   "metadata": {
    "application/vnd.databricks.v1+cell": {
     "cellMetadata": {
      "byteLimit": 2048000,
      "rowLimit": 10000
     },
     "inputWidgets": {},
     "nuid": "67349784-6536-473d-852f-3941c8dae258",
     "showTitle": false,
     "tableResultSettingsMap": {},
     "title": ""
    }
   },
   "outputs": [],
   "source": [
    "dbutils.notebook.run(\"Common_Functions\",60)"
   ]
  },
  {
   "cell_type": "code",
   "execution_count": 0,
   "metadata": {
    "application/vnd.databricks.v1+cell": {
     "cellMetadata": {
      "byteLimit": 2048000,
      "rowLimit": 10000
     },
     "inputWidgets": {},
     "nuid": "485e9ce9-7f0e-4eb1-8162-c57ab53f7e3a",
     "showTitle": false,
     "tableResultSettingsMap": {},
     "title": ""
    }
   },
   "outputs": [],
   "source": [
    "%run ./Common_Functions"
   ]
  },
  {
   "cell_type": "code",
   "execution_count": 0,
   "metadata": {
    "application/vnd.databricks.v1+cell": {
     "cellMetadata": {
      "byteLimit": 2048000,
      "rowLimit": 10000
     },
     "inputWidgets": {},
     "nuid": "4a4b9433-c89a-421b-9db2-9f45aff5e8b9",
     "showTitle": false,
     "tableResultSettingsMap": {},
     "title": ""
    }
   },
   "outputs": [],
   "source": [
    "jdbcUrl,connectionProperties = jdbc_connect_azure_sql()\n",
    "pushdown_query = f\"\"\"(select a.trigger_name, b.*,c.job_dtls_id,c.dtl_key,c.dtl_value \n",
    "from dbo.tbl_trigger a \n",
    "join dbo.tbl_job b on a.trigger_id = b.trigger_id\n",
    "join dbo.tbl_job_dtls c on b.jobid=c.jobid\n",
    "where a.trigger_name = '{TriggerName}'\n",
    ") test\"\"\"\n",
    "df = spark.read.jdbc(url=jdbcUrl, table=pushdown_query, properties=connectionProperties)\n",
    "display(df)"
   ]
  },
  {
   "cell_type": "code",
   "execution_count": 0,
   "metadata": {
    "application/vnd.databricks.v1+cell": {
     "cellMetadata": {
      "byteLimit": 2048000,
      "rowLimit": 10000
     },
     "inputWidgets": {},
     "nuid": "e8dc1a1e-16f8-4a6f-a8ab-87ad538ff73f",
     "showTitle": false,
     "tableResultSettingsMap": {},
     "title": ""
    }
   },
   "outputs": [],
   "source": []
  }
 ],
 "metadata": {
  "application/vnd.databricks.v1+notebook": {
   "computePreferences": null,
   "dashboards": [],
   "environmentMetadata": {
    "base_environment": "",
    "environment_version": "1"
   },
   "language": "python",
   "notebookMetadata": {
    "pythonIndentUnit": 4
   },
   "notebookName": "SCD_1",
   "widgets": {
    "TriggerName": {
     "currentValue": "",
     "nuid": "dcfe5b60-55c5-43b7-8aca-54790c7ebd7e",
     "typedWidgetInfo": {
      "autoCreated": false,
      "defaultValue": "",
      "label": null,
      "name": "TriggerName",
      "options": {
       "widgetDisplayType": "Dropdown",
       "choices": [
        "Tr_sample_csv",
        "Tr_sample_excel",
        "Tr_sample_restApi",
        "Tr_sample_sql",
        "Tr_sample_sftp"
       ],
       "fixedDomain": false,
       "multiselect": false
      },
      "parameterDataType": "String"
     },
     "widgetInfo": {
      "widgetType": "combobox",
      "defaultValue": "",
      "label": null,
      "name": "TriggerName",
      "options": {
       "widgetType": "dropdown",
       "autoCreated": null,
       "choices": [
        "Tr_sample_csv",
        "Tr_sample_excel",
        "Tr_sample_restApi",
        "Tr_sample_sql",
        "Tr_sample_sftp"
       ]
      }
     }
    }
   }
  },
  "language_info": {
   "name": "python"
  }
 },
 "nbformat": 4,
 "nbformat_minor": 0
}
