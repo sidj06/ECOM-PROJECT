{
 "cells": [
  {
   "cell_type": "code",
   "execution_count": 0,
   "metadata": {
    "application/vnd.databricks.v1+cell": {
     "cellMetadata": {
      "byteLimit": 2048000,
      "rowLimit": 10000
     },
     "inputWidgets": {},
     "nuid": "d1d7f2d3-2dc4-4eb6-aa99-11028b00f498",
     "showTitle": false,
     "tableResultSettingsMap": {},
     "title": ""
    }
   },
   "outputs": [],
   "source": [
    "def jdbc_connect_azure_sql():\n",
    "  server=dbutils.secrets.get(scope='kv-dev-ecom', key='AZURE-SQL-ECOM-SERVER-NAME')\n",
    "  db=dbutils.secrets.get(scope='kv-dev-ecom', key='AZURE-SQL-ECOM-DB-NAME')\n",
    "  user=dbutils.secrets.get(scope='kv-dev-ecom', key='AZURE-SQL-ECOM-DB-USERNAME')\n",
    "  pwd=dbutils.secrets.get(scope='kv-dev-ecom', key='AZURE-SQL-ECOM-DB-PASSWORD')\n",
    "\n",
    "  connectionProperties = {\n",
    "    \"user\" : user,\n",
    "    \"password\" : pwd,\n",
    "    \"driver\" : \"com.microsoft.sqlserver.jdbc.SQLServerDriver\"\n",
    "  }\n",
    "  jdbcPort = 1433\n",
    "  jdbcUrl= \"jdbc:sqlserver://{0}:{1};database={2}\".format(server, jdbcPort, db)\n",
    "  return jdbcUrl,connectionProperties\n",
    "\n",
    "jdbc_connect_azure_sql()"
   ]
  },
  {
   "cell_type": "code",
   "execution_count": 0,
   "metadata": {
    "application/vnd.databricks.v1+cell": {
     "cellMetadata": {
      "byteLimit": 2048000,
      "rowLimit": 10000
     },
     "inputWidgets": {},
     "nuid": "5be8af21-8465-4ef8-a734-530ffc3689ce",
     "showTitle": false,
     "tableResultSettingsMap": {},
     "title": ""
    }
   },
   "outputs": [],
   "source": [
    "# Replace with your Key Vault scope and key\n",
    "scope = \"kv-dev-ecom\"\n",
    "key = \"AZURE-SQL-ECOM-SERVER-NAME\"\n",
    "\n",
    "try:\n",
    "    secret_value = dbutils.secrets.get(scope=scope, key=key)\n",
    "    print(f\"Successfully retrieved secret: {secret_value}\")\n",
    "except Exception as e:\n",
    "    print(f\"Failed to retrieve secret: {str(e)}\")\n"
   ]
  }
 ],
 "metadata": {
  "application/vnd.databricks.v1+notebook": {
   "computePreferences": null,
   "dashboards": [],
   "environmentMetadata": {
    "base_environment": "",
    "environment_version": "1"
   },
   "language": "python",
   "notebookMetadata": {
    "pythonIndentUnit": 4
   },
   "notebookName": "Common_Functions",
   "widgets": {}
  },
  "language_info": {
   "name": "python"
  }
 },
 "nbformat": 4,
 "nbformat_minor": 0
}
